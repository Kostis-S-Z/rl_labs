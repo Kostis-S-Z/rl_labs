{
 "cells": [
  {
   "cell_type": "code",
   "execution_count": 14,
   "metadata": {},
   "outputs": [
    {
     "data": {
      "image/png": "[encoded data removed]",
      "text/plain": [
       "<Figure size 432x288 with 1 Axes>"
      ]
     },
     "metadata": {
      "needs_background": "light"
     },
     "output_type": "display_data"
    }
   ],
   "source": [
    "%matplotlib inline\n",
    "\"\"\"\n",
    "Lab 0: RL examples\n",
    "\n",
    "Problem 1: Shortest path in the Maze\n",
    "\n",
    "S:\n",
    "A:\n",
    "P:\n",
    "R:\n",
    "\n",
    "\"\"\"\n",
    "\n",
    "import numpy as np\n",
    "import matplotlib.pyplot as plt\n",
    "\n",
    "\n",
    "\n",
    "maze = [\n",
    "    [1, 1, 0, 1, 1, 1, 1],\n",
    "    [1, 1, 0, 1, 1, 1, 1],\n",
    "    [1, 1, 0, 1, 1, 1, 1],\n",
    "    [1, 1, 1, 1, 1, 1, 1],\n",
    "    [1, 0, 0, 0, 0, 0, 1],\n",
    "    [1, 1, 1, 1, 1, 1, 1],\n",
    "]\n",
    "\n",
    "\n",
    "fig, ax = plt.subplots(1)\n",
    "ax.plot(maze)\n",
    "ax.set_yticklabels([])\n",
    "ax.set_xticklabels([])\n",
    "ax.set_ylim(bottom=0, top=5)\n",
    "ax.set_xlim(left=0, right=5)\n",
    "ax.grid(b=True)\n",
    "plt.show()"
   ]
  }
 ],
 "metadata": {
  "kernelspec": {
   "display_name": "Python 3",
   "language": "python",
   "name": "python3"
  },
  "language_info": {
   "codemirror_mode": {
    "name": "ipython",
    "version": 3
   },
   "file_extension": ".py",
   "mimetype": "text/x-python",
   "name": "python",
   "nbconvert_exporter": "python",
   "pygments_lexer": "ipython3",
   "version": "3.7.5"
  }
 },
 "nbformat": 4,
 "nbformat_minor": 1
}
